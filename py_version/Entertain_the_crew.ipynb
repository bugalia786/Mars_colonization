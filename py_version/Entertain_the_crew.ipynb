####
# This cell contains all the functions required to run the game
from random import choice
import random
####
## FUNCTION 1 ##
####################################################################################################
def print_board(a,b):
  """
  This function prints the tic-tac-toe board
  a : available spaces on the board 
  b : tic-tac-toe board 
  """
  print('Available   TIC-TAC-TOE\n'+
           '  moves\n\n  '+
          a[7]+'|'+a[8]+'|'+a[9]+'        '+b[7]+'|'+b[8]+'|'+b[9]+'\n  '+
          '-----        -----\n  '+
          a[4]+'|'+a[5]+'|'+a[6]+'        '+b[4]+'|'+b[5]+'|'+b[6]+'\n  '+
          '-----        -----\n  '+
          a[1]+'|'+a[2]+'|'+a[3]+'        '+b[1]+'|'+b[2]+'|'+b[3]+'\n')
#####################################################################################################

## FUNCTION 2 ##
#####################################################################################################
def place_marker(board,marker,position):  
  '''
     board: tic-tac-toe board
     marker: 'X' or 'O'
     position: 1 to 9 
     It takes the marker ("X" or "O") and puts it on the position='position' on the board  
  '''
  board[position]=marker
######################################################################################################

## FUNCTION 3 ##
######################################################################################################
def win_check(board,marker):
  '''
     The function tells us if the player with marker='marker' has won the game
     Returns Boolean value
  '''
  return ((board[7] == marker and board[8] == marker and board[9] == marker) or # across the top
    (board[4] == marker and board[5] == marker and board[6] == marker) or # across the middle
    (board[1] == marker and board[2] == marker and board[3] == marker) or # across the bottom
    (board[7] == marker and board[4] == marker and board[1] == marker) or # down the left
    (board[8] == marker and board[5] == marker and board[2] == marker) or # down the middle
    (board[9] == marker and board[6] == marker and board[3] == marker) or # down the right side
    (board[7] == marker and board[5] == marker and board[3] == marker) or # diagonal
    (board[9] == marker and board[5] == marker and board[1] == marker))   # diagonal 
######################################################################################################

## FUNCTION 4 ##
######################################################################################################
def space_check(board,position):
  '''
  This function returns if position='position' is available on the board
  Returns Boolean Value
  '''
  if board[position]==' ':
    return True
  return False
######################################################################################################

## FUNCTION 5 ##
######################################################################################################
def special_space_check(board,p):
  '''
  This function checks if position="position" is available on the board 
  NOTE:This is for board containing numbers written for keeping track of the minimax algorithms best move
  '''
  if (board[p]==1 or board[p]==-1):
    return False
  return True
#######################################################################################################

## FUNCTION 6 ##
#######################################################################################################
def full_board_check(board):
  '''
      This function gives if all the spaces are occupied on the tic-tac-toe board 
      Returns Boolean Value
  '''
  for i in [1,2,3,4,5,6,7,8,9]:
    if(space_check(board,i)):
      return False
  return True
########################################################################################################

## FUNCTION 7 ##
########################################################################################################
def player_input(name):
  '''
    Asks the player which markers she/he wants to choose;
    Returns a tuple
    Markers : "X" or "O"
  '''
  marker = ''
  while not(marker=='X' or marker=='O'):
    marker = input(f"{name}: Choose a marker from 'X' or 'O' : ").upper()
  if(marker=="X"):
    return ('X','O')
  else:
    return ('O','X')
########################################################################################################

## FUNCTION 8 ##
########################################################################################################
def player_choice(board,name="Bot"):
    '''
    Puts the players marker on the desired position on the board 
    '''
    position = 0
    while (position not in [1,2,3,4,5,6,7,8,9]) or (not space_check(board,position)):
      position = int(input(f"Choose your next position {name}: (1-9) :"))
    return position
########################################################################################################

## FUNCTION 9 ##
########################################################################################################
def replay():
  '''
  asks the player if he/she wants to play the game again
  '''
  a = input('Do you want to play again ? Yes or No').lower()
  if(a[0]=='y'):
    return True
  else:
    return False
########################################################################################################

## FUNCTION 10 ##
########################################################################################################
def evaluate(board):

  '''
    returns 1 if the the player who wants to maximize the result is winning the game
    returns -1 if the the player who wants to maximize the result is winning the game
    (minimize and maximize are used in reference to the minimax algorithm)
    returns 0 otherwise  
  '''
  if win_check(board,1):
    score = +1
  elif win_check(board, -1):
    score = -1
  else:
    score = 0
  return score

########################################################################################################
########################################################################################################

##  FUNCTION 11 (minimax algorithm)

########################################################################################################
def minmax(board,depth,player_map):
  '''
  This returns the best possible next move
  '''
  if player_map == 1:
    best = [0,-100]
  else:
    best = [0,+100]
  
  if (depth==0 or (win_check(board,player_map) or win_check(board,-player_map))):
    score = evaluate(board)
    return [0,score]
  
  for cell in [1,2,3,4,5,6,7,8,9]:
    if (special_space_check(board,cell)):
      x = cell
      board[x] = player_map
      score = minmax(board,depth-1,-player_map)
      board[x] = random.randint(100,200)
      score[0] = x

      if (player_map == 1):
        if (score[1]>best[1]):
          best = score
      else:
        if (score[1]<best[1]):
          best = score
  return best

#########################################################################################################

## FUNCTION 12 SINGLE PLAYER

#########################################################################################################
def singleplayer():  
  '''
  Starts a single player tic-tac-toe game
  '''
  players = {'X':1,'O':-1,' ':0}
  print("TIC TAC TOE")
  BOARD = [' ']*10
  available = ['0','1','2','3','4','5','6','7','8','9']
  BOARD[0] = "Z"
  B = [0.1,0.2,0.3,0.4,0.5,0.6,0.7,0.8,0.9,.01]
  name = input("Enter your name player : ")
  p1_marker,p2_marker = player_input(name)

  print(f"{name}'s marker is {p1_marker} and COMPUTER is {p2_marker}")
  
  print("Toss Time")
  
  a = '121231'    
  while (a[0]!="H" and a[0]!="T"):
    a = input(f'{name} choose between "Head"(H) or "Tail"(T) :').upper()
  a1 = choice(["Tail","Head"])
  
  if (a[0]==a1[0]):
    print(f"It's {a1}! \n")
    print(f"{name} has won the toss")
    turn = "P1"
  else: 
    print(f"It's {a1}! \n")
    print(f"Computer has won the toss")
    turn = "P2"

  play_game = " "
  while play_game[0]!="y" and play_game[0]!="n":
    play_game = input('Are you ready to play? Enter Yes or No.').lower()
  
  if play_game.lower()[0] == 'y':
    game_on = True
  else:
    game_on = False
  depth=9
  while game_on:
    #assuming player 1 goes first
    if turn=="P1":
      print_board(available,BOARD)
      position = player_choice(BOARD,name)
      available[position] = ' '
      place_marker(BOARD,p1_marker,position)
      B[position] = players[p1_marker]
      if win_check(BOARD,p1_marker):
        print_board(available,BOARD)
        print(f'Congratulations {name}! You have won the game!')
        break
      else:
        if full_board_check(BOARD):
          print_board(available,BOARD)
          print('DRAW')
          game_on=False
        else:
          turn = "P2"
      depth = depth-1
    else:
      print_board(available,BOARD)
      if depth==9:
        position = choice([1,2,3,4,5,6,7,8,9])  #the first choice is random just to make the game more interesting
      else:
        position,score = minmax(B,depth,players[p2_marker]) 
      
      print(f'Bot chose the position {position} \n')
      available[position] = ' '
      place_marker(BOARD, p2_marker, position)
      B[position] = players[p2_marker]
      if win_check(BOARD, p2_marker):
        print_board(available,BOARD)
        print('Computer has won!')
        game_on = False
      else:
        if full_board_check(BOARD):
          print_board(available,BOARD)
          print('DRAW')
          break
        else:
          turn = 'P1'
      depth = depth-1

#########################################################################################################

## FUNCTION 13 MULTI PLAYER

#########################################################################################################
def Multiplayer():
  '''
  This function starts a mulyiplayer tic-tac-toe game
  '''
  print("TIC TAC TOE")
  BOARD = [' ']*10
  available = ['0','1','2','3','4','5','6','7','8','9']
  B = [0.1,0.2,0.3,0.4,0.5,0.6,0.7,0.8,0.9,.01]
  BOARD[0] = "Z"
  name1 = input("Enter your name player 1 : ")
  print("\n")
  name2 = input("Enter your name player 2 : ")
  p1_marker,p2_marker = player_input(name1)
  print(f"{name1}'s marker is {p1_marker} and {name2}'s marker is {p2_marker}")
  play_game = " "
  while play_game[0]!="y" and play_game[0]!="n":
    play_game = input('Are you ready to play? Enter Yes or No.').lower()
  
  print("Toss Time")
  
  a = '121231'    
  while (a[0]!="H" and a[0]!="T"):
    a = input(f'{name1} choose between "Head"(H) or "Tail"(T) :').upper()
  a1 = choice(["Tail","Head"])
  
  if (a[0]==a1[0]):
    print(f"It's {a1}! \n")
    print(f"{name1} has won the toss")
    turn = "P1"
  else: 
    print(f"It's {a1}! \n")
    print(f"{name2} has won the toss")
    turn = "P2"
  
  
  if play_game.lower()[0] == 'y':
    game_on = True
  else:
    game_on = False

  
  while game_on:
    #assuming player 1 goes first
    if turn=="P1":
      print_board(available,BOARD)
      position = player_choice(BOARD,name1)
      available[position] = ' '
      place_marker(BOARD,p1_marker,position)
      if win_check(BOARD,p1_marker):
        print_board(available,BOARD)
        print(f'{name1} has won!')
        break
      else:
        if full_board_check(BOARD):
          print_board(available,BOARD)
          print('DRAW!')
          game_on=False
        else:
          turn = "P2"
    else:
      print_board(available,BOARD)
      position = player_choice(BOARD,name2)
      available[position] = ' '
      place_marker(BOARD, p2_marker, position)
      if win_check(BOARD, p2_marker):
        print_board(available,BOARD)
        print(f'{name2} has won!')
        game_on = False
      else:
        if full_board_check(BOARD):
          print_board(available,BOARD)
          print('DRAW')
          break
        else:
          turn = 'P1'
####################################################################################################

#Function 13   Singleplayer Easy Mode

####################################################################################################
def Easyplayer():
  '''
  This function starts a mulyiplayer tic-tac-toe game
  '''
  print("TIC TAC TOE")
  BOARD = [' ']*10
  available = ['0','1','2','3','4','5','6','7','8','9']
  B = [0.1,0.2,0.3,0.4,0.5,0.6,0.7,0.8,0.9,.01]
  BOARD[0] = "Z"
  name1 = input("Enter your name player 1 : ")
  print("\n")
  name2 = "LAZY BOT"
  p1_marker,p2_marker = player_input(name1)
  print(f"{name1}'s marker is {p1_marker} and {name2}'s marker is {p2_marker}")
  play_game = " "
  while play_game[0]!="y" and play_game[0]!="n":
    play_game = input('Are you ready to play? Enter Yes or No.').lower()
  
  print("Toss Time")
  
  a = '121231'    
  while (a[0]!="H" and a[0]!="T"):
    a = input(f'{name1} choose between "Head"(H) or "Tail"(T) :').upper()
  a1 = choice(["Tail","Head"])
  
  if (a[0]==a1[0]):
    print(f"It's {a1}! \n")
    print(f"{name1} has won the toss")
    turn = "P1"
  else: 
    print(f"It's {a1}! \n")
    print(f"{name2} has won the toss")
    turn = "P2"
  
  
  if play_game.lower()[0] == 'y':
    game_on = True
  else:
    game_on = False

  moves  = [1,2,3,4,5,6,7,8,9]
  while game_on:
    #assuming player 1 goes first
    if turn=="P1":
      print_board(available,BOARD)
      position = player_choice(BOARD,name1)
      moves.remove(position)
      available[position] = ' '
      place_marker(BOARD,p1_marker,position)
      if win_check(BOARD,p1_marker):
        print_board(available,BOARD)
        print(f'{name1} has won!')
        break
      else:
        if full_board_check(BOARD):
          print_board(available,BOARD)
          print('DRAW!')
          game_on=False
        else:
          turn = "P2"
    else:
      print_board(available,BOARD)
      position = choice(moves)
      moves.remove(position)
      available[position] = ' '
      place_marker(BOARD, p2_marker, position)
      if win_check(BOARD, p2_marker):
        print_board(available,BOARD)
        print(f'{name2} has won!')
        game_on = False
      else:
        if full_board_check(BOARD):
          print_board(available,BOARD)
          print('DRAW')
          break
        else:
          turn = 'P1'
